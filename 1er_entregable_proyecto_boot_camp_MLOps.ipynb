{
  "nbformat": 4,
  "nbformat_minor": 0,
  "metadata": {
    "colab": {
      "provenance": [],
      "authorship_tag": "ABX9TyMO4zqsGL/m27Vc34sWqZD1",
      "include_colab_link": true
    },
    "kernelspec": {
      "name": "python3",
      "display_name": "Python 3"
    },
    "language_info": {
      "name": "python"
    }
  },
  "cells": [
    {
      "cell_type": "markdown",
      "metadata": {
        "id": "view-in-github",
        "colab_type": "text"
      },
      "source": [
        "<a href=\"https://colab.research.google.com/github/rojasfery/MLOps_2024/blob/main/1er_entregable_proyecto_boot_camp_MLOps.ipynb\" target=\"_parent\"><img src=\"https://colab.research.google.com/assets/colab-badge.svg\" alt=\"Open In Colab\"/></a>"
      ]
    },
    {
      "cell_type": "code",
      "execution_count": null,
      "metadata": {
        "colab": {
          "base_uri": "https://localhost:8080/"
        },
        "id": "9Ek-dCe_X_XE",
        "outputId": "9137068e-8c94-4995-8642-b52894f89c1e"
      },
      "outputs": [
        {
          "output_type": "stream",
          "name": "stdout",
          "text": [
            "--------\n",
            "-- ok --\n",
            "--------\n"
          ]
        }
      ],
      "source": [
        "################################################################################\n",
        "##  Importación de liberías\n",
        "################################################################################\n",
        "# Importación de librerías necesarias\n",
        "import pandas as pd\n",
        "import matplotlib.pyplot as plt\n",
        "import seaborn as sns\n",
        "\n",
        "print('--------\\n-- ok --\\n--------')"
      ]
    },
    {
      "cell_type": "code",
      "source": [
        "################################################################################\n",
        "##  Lectura del dataset\n",
        "################################################################################\n",
        "# Carga del dataset\n",
        "url = '/content/dataset.csv'  # URL del dataset\n",
        "dataset = pd.read_csv(url, sep=';')\n",
        "\n",
        "print('--------\\n-- ok --\\n--------')"
      ],
      "metadata": {
        "colab": {
          "base_uri": "https://localhost:8080/"
        },
        "id": "ouJuzPyYeev2",
        "outputId": "b6ee0128-d5b7-423f-fd0b-58c53630b802"
      },
      "execution_count": null,
      "outputs": [
        {
          "output_type": "stream",
          "name": "stdout",
          "text": [
            "--------\n",
            "-- ok --\n",
            "--------\n"
          ]
        }
      ]
    },
    {
      "cell_type": "code",
      "source": [
        "################################################################################\n",
        "##  Explorando datos\n",
        "################################################################################\n",
        "# Exploración inicial de los datos\n",
        "print('-------- head()\\n',dataset.head())\n",
        "print('\\n--------info()\\n')\n",
        "dataset.info()\n",
        "print('\\n--------describe()\\n',dataset.describe())\n"
      ],
      "metadata": {
        "colab": {
          "base_uri": "https://localhost:8080/"
        },
        "id": "Ul-9LPkeeetK",
        "outputId": "6c45f621-f48f-42e1-c653-69182ca00126"
      },
      "execution_count": null,
      "outputs": [
        {
          "output_type": "stream",
          "name": "stdout",
          "text": [
            "-------- head()\n",
            "    ID Motorway   SR  NR  TR  VR  SUR1  SUR2  SUR3  UR  ...  BR  MR  CR  \\\n",
            "0   1       A1  600   1   1   4     6     2    10   0  ...   0   0   1   \n",
            "1   2       A1  700   1   5   1    10     6    10   3  ...   1   0   1   \n",
            "2   3       A1  200   1   5   1    10     6    10   3  ...   1   0   1   \n",
            "3   4       A1  300   1   5   0     6    10     2   3  ...   0   0   1   \n",
            "4   5       A1  600   2   1   4    10     2     6   0  ...   5   0   1   \n",
            "\n",
            "   Green frogs  Brown frogs  Common toad  Fire-bellied toad  Tree frog  \\\n",
            "0            0            0            0                  0          0   \n",
            "1            0            1            1                  0          0   \n",
            "2            0            1            1                  0          0   \n",
            "3            0            0            1                  0          0   \n",
            "4            0            1            1                  1          0   \n",
            "\n",
            "   Common newt  Great crested newt  \n",
            "0            0                   0  \n",
            "1            1                   0  \n",
            "2            1                   0  \n",
            "3            0                   0  \n",
            "4            1                   1  \n",
            "\n",
            "[5 rows x 23 columns]\n",
            "\n",
            "--------info()\n",
            "\n",
            "<class 'pandas.core.frame.DataFrame'>\n",
            "RangeIndex: 189 entries, 0 to 188\n",
            "Data columns (total 23 columns):\n",
            " #   Column              Non-Null Count  Dtype \n",
            "---  ------              --------------  ----- \n",
            " 0   ID                  189 non-null    int64 \n",
            " 1   Motorway            189 non-null    object\n",
            " 2   SR                  189 non-null    int64 \n",
            " 3   NR                  189 non-null    int64 \n",
            " 4   TR                  189 non-null    int64 \n",
            " 5   VR                  189 non-null    int64 \n",
            " 6   SUR1                189 non-null    int64 \n",
            " 7   SUR2                189 non-null    int64 \n",
            " 8   SUR3                189 non-null    int64 \n",
            " 9   UR                  189 non-null    int64 \n",
            " 10  FR                  189 non-null    int64 \n",
            " 11  OR                  189 non-null    int64 \n",
            " 12  RR                  189 non-null    int64 \n",
            " 13  BR                  189 non-null    int64 \n",
            " 14  MR                  189 non-null    int64 \n",
            " 15  CR                  189 non-null    int64 \n",
            " 16  Green frogs         189 non-null    int64 \n",
            " 17  Brown frogs         189 non-null    int64 \n",
            " 18  Common toad         189 non-null    int64 \n",
            " 19  Fire-bellied toad   189 non-null    int64 \n",
            " 20  Tree frog           189 non-null    int64 \n",
            " 21  Common newt         189 non-null    int64 \n",
            " 22  Great crested newt  189 non-null    int64 \n",
            "dtypes: int64(22), object(1)\n",
            "memory usage: 34.1+ KB\n",
            "\n",
            "--------describe()\n",
            "                ID             SR          NR          TR          VR  \\\n",
            "count  189.000000     189.000000  189.000000  189.000000  189.000000   \n",
            "mean    95.000000    9633.227513    1.566138    4.952381    1.904762   \n",
            "std     54.703748   46256.078309    1.544419    5.590918    1.317407   \n",
            "min      1.000000      30.000000    1.000000    1.000000    0.000000   \n",
            "25%     48.000000     300.000000    1.000000    1.000000    1.000000   \n",
            "50%     95.000000     700.000000    1.000000    1.000000    2.000000   \n",
            "75%    142.000000    3300.000000    1.000000   12.000000    3.000000   \n",
            "max    189.000000  500000.000000   12.000000   15.000000    4.000000   \n",
            "\n",
            "             SUR1        SUR2       SUR3          UR          FR  ...  \\\n",
            "count  189.000000  189.000000  189.00000  189.000000  189.000000  ...   \n",
            "mean     4.232804    5.391534    5.84127    0.841270    0.846561  ...   \n",
            "std      3.434615    3.515185    3.29348    1.315291    1.349843  ...   \n",
            "min      1.000000    1.000000    1.00000    0.000000    0.000000  ...   \n",
            "25%      2.000000    2.000000    2.00000    0.000000    0.000000  ...   \n",
            "50%      2.000000    6.000000    6.00000    0.000000    0.000000  ...   \n",
            "75%      7.000000    9.000000    9.00000    3.000000    2.000000  ...   \n",
            "max     14.000000   11.000000   11.00000    3.000000    4.000000  ...   \n",
            "\n",
            "               BR          MR          CR  Green frogs  Brown frogs  \\\n",
            "count  189.000000  189.000000  189.000000   189.000000   189.000000   \n",
            "mean     2.502646    0.047619    1.015873     0.571429     0.783069   \n",
            "std      2.640971    0.296894    0.125316     0.496186     0.413250   \n",
            "min      0.000000    0.000000    1.000000     0.000000     0.000000   \n",
            "25%      1.000000    0.000000    1.000000     0.000000     1.000000   \n",
            "50%      1.000000    0.000000    1.000000     1.000000     1.000000   \n",
            "75%      5.000000    0.000000    1.000000     1.000000     1.000000   \n",
            "max     10.000000    2.000000    2.000000     1.000000     1.000000   \n",
            "\n",
            "       Common toad  Fire-bellied toad   Tree frog  Common newt  \\\n",
            "count   189.000000         189.000000  189.000000   189.000000   \n",
            "mean      0.656085           0.306878    0.375661     0.306878   \n",
            "std       0.476275           0.462423    0.485580     0.462423   \n",
            "min       0.000000           0.000000    0.000000     0.000000   \n",
            "25%       0.000000           0.000000    0.000000     0.000000   \n",
            "50%       1.000000           0.000000    0.000000     0.000000   \n",
            "75%       1.000000           1.000000    1.000000     1.000000   \n",
            "max       1.000000           1.000000    1.000000     1.000000   \n",
            "\n",
            "       Great crested newt  \n",
            "count          189.000000  \n",
            "mean             0.111111  \n",
            "std              0.315104  \n",
            "min              0.000000  \n",
            "25%              0.000000  \n",
            "50%              0.000000  \n",
            "75%              0.000000  \n",
            "max              1.000000  \n",
            "\n",
            "[8 rows x 22 columns]\n"
          ]
        }
      ]
    },
    {
      "cell_type": "code",
      "source": [
        "################################################################################\n",
        "##  Definición de variables\n",
        "################################################################################\n",
        "# Variables agrupadas según la documentación del dataset\n",
        "\n",
        "# Variables categóricas\n",
        "vars_categorical = [\n",
        "    \"Motorway\", \"TR\", \"VR\", \"SUR1\", \"SUR2\", \"SUR3\",\n",
        "    \"UR\", \"FR\", \"MR\", \"CR\"\n",
        "]\n",
        "\n",
        "# Variables de etiquetas (podrían tratarse como categóricas)\n",
        "vars_label = [\n",
        "    \"Green frogs\", \"Brown frogs\", \"Common toad\",\n",
        "    \"Fire-bellied toad\", \"Tree frog\", \"Common newt\", \"Great crested newt\"\n",
        "]\n",
        "\n",
        "# Variables númericas\n",
        "vars_numerical = [\n",
        "    \"SR\", \"NR\", \"OR\"  # Asumiendo que OR es numérico y no ordinal en tu caso\n",
        "]\n",
        "\n",
        "# Variables ordinales (podrían tratarse como númericas)\n",
        "vars_ordinal = [\n",
        "    \"RR\", \"BR\"\n",
        "]\n",
        "\n",
        "# Variables enteras (nos indica el orden de cada registro)\n",
        "vars_integer = [\n",
        "    \"ID\"\n",
        "]\n",
        "\n",
        "print('--------\\n-- ok --\\n--------')"
      ],
      "metadata": {
        "colab": {
          "base_uri": "https://localhost:8080/"
        },
        "id": "CUAy0ceneeoA",
        "outputId": "ed6ce411-9aa5-4332-dbb5-5949c6bb8916"
      },
      "execution_count": null,
      "outputs": [
        {
          "output_type": "stream",
          "name": "stdout",
          "text": [
            "--------\n",
            "-- ok --\n",
            "--------\n"
          ]
        }
      ]
    },
    {
      "cell_type": "code",
      "source": [
        "################################################################################\n",
        "##  Descriptivo de variables númericas\n",
        "################################################################################\n",
        "# Creando data frame para variables númericas\n",
        "stats_descriptive = pd.DataFrame()\n",
        "\n",
        "# Obtención de estadísticas descriptivas para variables númericas\n",
        "print('-------- Procesando:')\n",
        "for column in vars_numerical + vars_ordinal:\n",
        "  stats_descriptive[column] = dataset[column].describe()\n",
        "  print(f'-------- {column}')\n",
        "\n",
        "print(\"\\n----------------------------------------------------------------------------\\n\")\n",
        "print(f'--------Estadísticas descriptivas\\n{stats_descriptive}')\n",
        "\n"
      ],
      "metadata": {
        "colab": {
          "base_uri": "https://localhost:8080/"
        },
        "id": "kERkBIHieelL",
        "outputId": "d71bd6a2-d118-4c58-e73c-3f282a082b56"
      },
      "execution_count": null,
      "outputs": [
        {
          "output_type": "stream",
          "name": "stdout",
          "text": [
            "-------- Procesando:\n",
            "-------- SR\n",
            "-------- NR\n",
            "-------- OR\n",
            "-------- RR\n",
            "-------- BR\n",
            "\n",
            "----------------------------------------------------------------------------\n",
            "\n",
            "--------Estadísticas descriptivas\n",
            "                  SR          NR          OR          RR          BR\n",
            "count     189.000000  189.000000  189.000000  189.000000  189.000000\n",
            "mean     9633.227513    1.566138   89.962963    2.333333    2.502646\n",
            "std     46256.078309    1.544419   19.904926    2.520132    2.640971\n",
            "min        30.000000    1.000000   25.000000    0.000000    0.000000\n",
            "25%       300.000000    1.000000   99.000000    1.000000    1.000000\n",
            "50%       700.000000    1.000000  100.000000    1.000000    1.000000\n",
            "75%      3300.000000    1.000000  100.000000    5.000000    5.000000\n",
            "max    500000.000000   12.000000  100.000000   10.000000   10.000000\n"
          ]
        }
      ]
    },
    {
      "cell_type": "code",
      "source": [
        "################################################################################\n",
        "##  Descriptivo de variables categóricas\n",
        "################################################################################\n",
        "# Creando diccionario para variables categóricas\n",
        "freq_descriptive = {}\n",
        "\n",
        "# Onbteniendo frecuencias para variables categóricas\n",
        "print('-------- Procesando:')\n",
        "for column in vars_categorical + vars_label:\n",
        "    freq_descriptive[column] = dataset[column].value_counts()\n",
        "    print(f'-------- {column}')\n",
        "\n",
        "# Creando data frame del diccionario para mejor manejo\n",
        "freq_descriptive_df = pd.DataFrame(freq_descriptive)\n",
        "freq_descriptive_df.fillna(0, inplace=True) # Eliminando resultados NaN de los conteos por ceros\n",
        "\n",
        "print(\"\\n----------------------------------------------------------------------------\\n\")\n",
        "print(f'--------Frecuencias de variables categóricas\\n{freq_descriptive_df}')\n"
      ],
      "metadata": {
        "colab": {
          "base_uri": "https://localhost:8080/"
        },
        "id": "VcLhPRBreeiW",
        "outputId": "b03126e2-27fb-4e31-88f3-afc29a19d9a1"
      },
      "execution_count": null,
      "outputs": [
        {
          "output_type": "stream",
          "name": "stdout",
          "text": [
            "-------- Procesando:\n",
            "-------- Motorway\n",
            "-------- TR\n",
            "-------- VR\n",
            "-------- SUR1\n",
            "-------- SUR2\n",
            "-------- SUR3\n",
            "-------- UR\n",
            "-------- FR\n",
            "-------- MR\n",
            "-------- CR\n",
            "-------- Green frogs\n",
            "-------- Brown frogs\n",
            "-------- Common toad\n",
            "-------- Fire-bellied toad\n",
            "-------- Tree frog\n",
            "-------- Common newt\n",
            "-------- Great crested newt\n",
            "\n",
            "----------------------------------------------------------------------------\n",
            "\n",
            "--------Frecuencias de variables categóricas\n",
            "     Motorway     TR    VR  SUR1  SUR2  SUR3     UR     FR     MR     CR  \\\n",
            "0         0.0    0.0  30.0   0.0   0.0   0.0  130.0  125.0  184.0    0.0   \n",
            "1         0.0  116.0  55.0  43.0  36.0  29.0    9.0   16.0    1.0  186.0   \n",
            "2         0.0    4.0  35.0  70.0  41.0  29.0    0.0   15.0    4.0    3.0   \n",
            "3         0.0    0.0  41.0   0.0   0.0   0.0   50.0   18.0    0.0    0.0   \n",
            "4         0.0    0.0  28.0   1.0   0.0   0.0    0.0   15.0    0.0    0.0   \n",
            "5         0.0   12.0   0.0   0.0   0.0   2.0    0.0    0.0    0.0    0.0   \n",
            "6         0.0    0.0   0.0  19.0  39.0  55.0    0.0    0.0    0.0    0.0   \n",
            "7         0.0    1.0   0.0  20.0  18.0  18.0    0.0    0.0    0.0    0.0   \n",
            "9         0.0    0.0   0.0   5.0  10.0  10.0    0.0    0.0    0.0    0.0   \n",
            "10        0.0    0.0   0.0  30.0  44.0  45.0    0.0    0.0    0.0    0.0   \n",
            "11        0.0    4.0   0.0   0.0   1.0   1.0    0.0    0.0    0.0    0.0   \n",
            "12        0.0   23.0   0.0   0.0   0.0   0.0    0.0    0.0    0.0    0.0   \n",
            "14        0.0   10.0   0.0   1.0   0.0   0.0    0.0    0.0    0.0    0.0   \n",
            "15        0.0   19.0   0.0   0.0   0.0   0.0    0.0    0.0    0.0    0.0   \n",
            "A1       80.0    0.0   0.0   0.0   0.0   0.0    0.0    0.0    0.0    0.0   \n",
            "S52     109.0    0.0   0.0   0.0   0.0   0.0    0.0    0.0    0.0    0.0   \n",
            "\n",
            "     Green frogs  Brown frogs  Common toad  Fire-bellied toad  Tree frog  \\\n",
            "0           81.0         41.0         65.0              131.0      118.0   \n",
            "1          108.0        148.0        124.0               58.0       71.0   \n",
            "2            0.0          0.0          0.0                0.0        0.0   \n",
            "3            0.0          0.0          0.0                0.0        0.0   \n",
            "4            0.0          0.0          0.0                0.0        0.0   \n",
            "5            0.0          0.0          0.0                0.0        0.0   \n",
            "6            0.0          0.0          0.0                0.0        0.0   \n",
            "7            0.0          0.0          0.0                0.0        0.0   \n",
            "9            0.0          0.0          0.0                0.0        0.0   \n",
            "10           0.0          0.0          0.0                0.0        0.0   \n",
            "11           0.0          0.0          0.0                0.0        0.0   \n",
            "12           0.0          0.0          0.0                0.0        0.0   \n",
            "14           0.0          0.0          0.0                0.0        0.0   \n",
            "15           0.0          0.0          0.0                0.0        0.0   \n",
            "A1           0.0          0.0          0.0                0.0        0.0   \n",
            "S52          0.0          0.0          0.0                0.0        0.0   \n",
            "\n",
            "     Common newt  Great crested newt  \n",
            "0          131.0               168.0  \n",
            "1           58.0                21.0  \n",
            "2            0.0                 0.0  \n",
            "3            0.0                 0.0  \n",
            "4            0.0                 0.0  \n",
            "5            0.0                 0.0  \n",
            "6            0.0                 0.0  \n",
            "7            0.0                 0.0  \n",
            "9            0.0                 0.0  \n",
            "10           0.0                 0.0  \n",
            "11           0.0                 0.0  \n",
            "12           0.0                 0.0  \n",
            "14           0.0                 0.0  \n",
            "15           0.0                 0.0  \n",
            "A1           0.0                 0.0  \n",
            "S52          0.0                 0.0  \n"
          ]
        }
      ]
    },
    {
      "cell_type": "code",
      "source": [
        "################################################################################\n",
        "##  TEXTO\n",
        "################################################################################\n",
        "# Visualización de las relaciones entre variables numéricas\n",
        "sns.pairplot(dataset.select_dtypes(include=['float64', 'int64']))\n",
        "plt.show()\n",
        "\n",
        "# Identificación y manejo de valores faltantes\n",
        "dataset.fillna(dataset.mean(), inplace=True)  # Imputación con la media para variables numéricas\n",
        "# Considera otros métodos de imputación para variables categóricas si es necesario\n",
        "\n",
        "# Identificación y manejo de valores atípicos\n",
        "# Este paso puede requerir un análisis más detallado para determinar el mejor enfoque\n",
        "\n",
        "# Visualización de la frecuencia de categorías en variables categóricas\n",
        "for col in dataset.select_dtypes(include=['object']).columns:\n",
        "    sns.countplot(y=col, data=dataset)\n",
        "    plt.show()\n",
        "\n",
        "# Asegúrate de ajustar el código según las necesidades específicas de tu dataset y análisis"
      ],
      "metadata": {
        "id": "oQxSGUWOeeqe"
      },
      "execution_count": null,
      "outputs": []
    },
    {
      "cell_type": "code",
      "source": [
        "################################################################################\n",
        "##  TEXTO\n",
        "################################################################################\n"
      ],
      "metadata": {
        "id": "yZBzsuwPeefb"
      },
      "execution_count": null,
      "outputs": []
    },
    {
      "cell_type": "code",
      "source": [
        "################################################################################\n",
        "##  TEXTO\n",
        "################################################################################\n"
      ],
      "metadata": {
        "id": "QXshMxe0eecZ"
      },
      "execution_count": null,
      "outputs": []
    },
    {
      "cell_type": "code",
      "source": [
        "################################################################################\n",
        "##  TEXTO\n",
        "################################################################################\n"
      ],
      "metadata": {
        "id": "Ry6D0k1-eeVu"
      },
      "execution_count": null,
      "outputs": []
    },
    {
      "cell_type": "code",
      "source": [
        "################################################################################\n",
        "##  TEXTO\n",
        "################################################################################\n"
      ],
      "metadata": {
        "id": "yqYUBA-teeGZ"
      },
      "execution_count": null,
      "outputs": []
    },
    {
      "cell_type": "code",
      "source": [
        "################################################################################\n",
        "##  TEXTO\n",
        "################################################################################\n"
      ],
      "metadata": {
        "id": "wK9GOi3temby"
      },
      "execution_count": null,
      "outputs": []
    },
    {
      "cell_type": "code",
      "source": [
        "################################################################################\n",
        "##  TEXTO\n",
        "################################################################################\n"
      ],
      "metadata": {
        "id": "833yKXSyemaR"
      },
      "execution_count": null,
      "outputs": []
    },
    {
      "cell_type": "code",
      "source": [
        "################################################################################\n",
        "##  TEXTO\n",
        "################################################################################\n"
      ],
      "metadata": {
        "id": "9hwjwj7UemXU"
      },
      "execution_count": null,
      "outputs": []
    },
    {
      "cell_type": "code",
      "source": [
        "################################################################################\n",
        "##  TEXTO\n",
        "################################################################################\n"
      ],
      "metadata": {
        "id": "9n57PjlremUh"
      },
      "execution_count": null,
      "outputs": []
    },
    {
      "cell_type": "code",
      "source": [
        "################################################################################\n",
        "##  TEXTO\n",
        "################################################################################\n"
      ],
      "metadata": {
        "id": "wBnp8Y5qemR0"
      },
      "execution_count": null,
      "outputs": []
    },
    {
      "cell_type": "code",
      "source": [
        "################################################################################\n",
        "##  TEXTO\n",
        "################################################################################\n"
      ],
      "metadata": {
        "id": "sHzQBjeVemPA"
      },
      "execution_count": null,
      "outputs": []
    },
    {
      "cell_type": "code",
      "source": [
        "################################################################################\n",
        "##  TEXTO\n",
        "################################################################################\n"
      ],
      "metadata": {
        "id": "pmW4Bk1YemMF"
      },
      "execution_count": null,
      "outputs": []
    }
  ]
}